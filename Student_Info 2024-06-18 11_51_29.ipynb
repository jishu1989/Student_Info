{
 "cells": [
  {
   "cell_type": "markdown",
   "metadata": {
    "application/vnd.databricks.v1+cell": {
     "cellMetadata": {},
     "inputWidgets": {},
     "nuid": "a835a2b7-5158-4416-a77b-2145d0ad9bfa",
     "showTitle": false,
     "title": ""
    }
   },
   "source": [
    "Provide the configuration to read data from the S3 bucket (example-eu-central-1)\n",
    "and save the data to the Databricks schema (students_info). The process includes following steps:\n",
    "1. Setting up the AWS Credentials\n",
    "2. Mount S3 bucket to databricks\n",
    "3. Read data from mounted S3 bucket\n",
    "4. Save data to schema"
   ]
  },
  {
   "cell_type": "markdown",
   "metadata": {
    "application/vnd.databricks.v1+cell": {
     "cellMetadata": {},
     "inputWidgets": {},
     "nuid": "d865e954-53cb-4647-8419-b6cbf6c2e690",
     "showTitle": false,
     "title": ""
    }
   },
   "source": [
    "**1.Setting up the AWS Credentials**"
   ]
  },
  {
   "cell_type": "code",
   "execution_count": 0,
   "metadata": {
    "application/vnd.databricks.v1+cell": {
     "cellMetadata": {},
     "inputWidgets": {},
     "nuid": "25e7f41e-a6c4-425c-a1a9-2561e0587595",
     "showTitle": false,
     "title": ""
    }
   },
   "outputs": [],
   "source": [
    "# Accessing the secrets in AWS : providing AWS access key and secret key to Databricks\n",
    "# direct configuration\n",
    "spark.conf.set(\"fs.s3a.access.key\", \"YOUR_AWS_ACCESS_KEY\")\n",
    "spark.conf.set(\"fs.s3a.secret.key\", \"YOUR_AWS_SECRET_KEY\")\n",
    "\n",
    "# accessing the keys from data bricks secrets scope : providing AWS access key and secret key to Databricks\n",
    "spark.conf.set(\"fs.s3a.access.key\", dbutils.secrets.get(scope=\"my-scope\", key=\"aws-access-key\"))\n",
    "spark.conf.set(\"fs.s3a.secret.key\", dbutils.secrets.get(scope=\"my-scope\", key=\"aws-secret-key\"))\n",
    "\n"
   ]
  },
  {
   "cell_type": "markdown",
   "metadata": {
    "application/vnd.databricks.v1+cell": {
     "cellMetadata": {},
     "inputWidgets": {},
     "nuid": "f251a8a7-93d2-4f8d-beba-ea249a339ebe",
     "showTitle": false,
     "title": ""
    }
   },
   "source": [
    " **2. Mount S3 bucket to Databricks**"
   ]
  },
  {
   "cell_type": "code",
   "execution_count": 0,
   "metadata": {
    "application/vnd.databricks.v1+cell": {
     "cellMetadata": {},
     "inputWidgets": {},
     "nuid": "ee146bd6-908c-44f8-951a-f884f386b8a6",
     "showTitle": false,
     "title": ""
    }
   },
   "outputs": [],
   "source": [
    "dbutils.fs.mount(\n",
    "  source = \"s3a://example-eu-central-1\",\n",
    "  mount_point = \"/mnt/your-mount-point\",\n",
    "  extra_configs = {\"fs.s3a.access.key\": dbutils.secrets.get(scope=\"my-scope\", key=\"aws-access-key\"),\n",
    "                   \"fs.s3a.secret.key\": dbutils.secrets.get(scope=\"my-scope\", key=\"aws-secret-key\")}\n",
    ")\n"
   ]
  },
  {
   "cell_type": "markdown",
   "metadata": {
    "application/vnd.databricks.v1+cell": {
     "cellMetadata": {},
     "inputWidgets": {},
     "nuid": "fc317ee4-cde9-49ee-a799-34a94e12b530",
     "showTitle": false,
     "title": ""
    }
   },
   "source": [
    "**3.Read data from mounted S3 bucket**"
   ]
  },
  {
   "cell_type": "code",
   "execution_count": 0,
   "metadata": {
    "application/vnd.databricks.v1+cell": {
     "cellMetadata": {},
     "inputWidgets": {},
     "nuid": "67501a24-bc87-4f36-8582-c2112df6a8f5",
     "showTitle": false,
     "title": ""
    }
   },
   "outputs": [],
   "source": [
    "#read data from s3 bucket\n",
    "df = spark.read.format(\"parquet\").option(\"header\", \"true\").load(\"/mnt/your-mount-point/path/to/STUDENT.parquet\")\n"
   ]
  },
  {
   "cell_type": "markdown",
   "metadata": {
    "application/vnd.databricks.v1+cell": {
     "cellMetadata": {},
     "inputWidgets": {},
     "nuid": "248d7b4d-23ee-4e74-97ec-6bba1e59d5b3",
     "showTitle": false,
     "title": ""
    }
   },
   "source": [
    "**4.Save data to schema**"
   ]
  },
  {
   "cell_type": "code",
   "execution_count": 0,
   "metadata": {
    "application/vnd.databricks.v1+cell": {
     "cellMetadata": {},
     "inputWidgets": {},
     "nuid": "d2a657d5-40e1-4402-9b7c-53239823dc5b",
     "showTitle": false,
     "title": ""
    }
   },
   "outputs": [],
   "source": [
    "# Create database schema\n",
    "spark.sql(\"CREATE DATABASE IF NOT EXISTS student_info\")\n",
    "\n",
    "# Save DataFrame to a table in the database schema\n",
    "df.write.mode(\"overwrite\").saveAsTable(\"student_info.student\")"
   ]
  }
 ],
 "metadata": {
  "application/vnd.databricks.v1+notebook": {
   "dashboards": [],
   "environmentMetadata": null,
   "language": "python",
   "notebookMetadata": {
    "pythonIndentUnit": 4
   },
   "notebookName": "Student_Info 2024-06-18 11:51:29",
   "widgets": {}
  }
 },
 "nbformat": 4,
 "nbformat_minor": 0
}
